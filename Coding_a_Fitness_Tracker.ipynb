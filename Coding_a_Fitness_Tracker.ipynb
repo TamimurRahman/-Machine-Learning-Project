{
  "nbformat": 4,
  "nbformat_minor": 0,
  "metadata": {
    "colab": {
      "provenance": [],
      "authorship_tag": "ABX9TyONzsKXKriJnkZcMnHXryTX",
      "include_colab_link": true
    },
    "kernelspec": {
      "name": "python3",
      "display_name": "Python 3"
    },
    "language_info": {
      "name": "python"
    }
  },
  "cells": [
    {
      "cell_type": "markdown",
      "metadata": {
        "id": "view-in-github",
        "colab_type": "text"
      },
      "source": [
        "<a href=\"https://colab.research.google.com/github/TamimurRahman/-Machine-Learning-Project/blob/main/Coding_a_Fitness_Tracker.ipynb\" target=\"_parent\"><img src=\"https://colab.research.google.com/assets/colab-badge.svg\" alt=\"Open In Colab\"/></a>"
      ]
    },
    {
      "cell_type": "code",
      "execution_count": 69,
      "metadata": {
        "id": "UpFJgbWGxsRE"
      },
      "outputs": [],
      "source": [
        "import pandas as pd\n",
        "from glob import glob\n",
        "\n",
        "\n",
        "\n",
        "\n",
        "\n",
        "\n",
        "# --------------------------------------------------------------\n",
        "# Read all files\n",
        "# --------------------------------------------------------------\n",
        "\n",
        "\n",
        "# --------------------------------------------------------------\n",
        "# Working with datetimes\n",
        "# --------------------------------------------------------------\n",
        "\n",
        "\n",
        "# --------------------------------------------------------------\n",
        "# Turn into function\n",
        "# --------------------------------------------------------------\n",
        "\n",
        "\n",
        "# --------------------------------------------------------------\n",
        "# Merging datasets\n",
        "# --------------------------------------------------------------\n",
        "\n",
        "\n",
        "# --------------------------------------------------------------\n",
        "# Resample data (frequency conversion)\n",
        "# --------------------------------------------------------------\n",
        "\n",
        "# Accelerometer:    12.500HZ\n",
        "# Gyroscope:        25.000Hz\n",
        "\n",
        "\n",
        "# --------------------------------------------------------------\n",
        "# Export dataset\n",
        "# --------------------------------------------------------------"
      ]
    },
    {
      "cell_type": "code",
      "source": [
        "# --------------------------------------------------------------\n",
        "# Read single CSV file\n",
        "# --------------------------------------------------------------\n",
        "\n",
        "single_file_acc = pd.read_csv(\"/content/A-bench-heavy2-rpe8_MetaWear_2019-01-11T16.10.08.270_C42732BE255C_Accelerometer_12.500Hz_1.4.4.csv\")\n",
        "single_file_gyr = pd.read_csv(\"/content/A-bench-heavy2-rpe8_MetaWear_2019-01-11T16.10.08.270_C42732BE255C_Gyroscope_25.000Hz_1.4.4.csv\")\n"
      ],
      "metadata": {
        "id": "f8GzJW-PRXjZ"
      },
      "execution_count": 70,
      "outputs": []
    },
    {
      "cell_type": "code",
      "source": [
        "# --------------------------------------------------------------\n",
        "# List all data in data/raw/MetaMotion\n",
        "# --------------------------------------------------------------\n",
        "\n",
        "files = glob(\"*.csv\")\n",
        "len(files)"
      ],
      "metadata": {
        "colab": {
          "base_uri": "https://localhost:8080/"
        },
        "id": "RK3Jw84KRU9P",
        "outputId": "0e5caef6-dd8f-4dfa-9fcc-da1ad8dc17b1"
      },
      "execution_count": 71,
      "outputs": [
        {
          "output_type": "execute_result",
          "data": {
            "text/plain": [
              "187"
            ]
          },
          "metadata": {},
          "execution_count": 71
        }
      ]
    },
    {
      "cell_type": "code",
      "source": [
        "\n",
        "# --------------------------------------------------------------\n",
        "# Extract features from filename\n",
        "# --------------------------------------------------------------\n",
        "\n",
        "\n",
        "data_path = \"/content/sample_data\"\n",
        "f  = files[1]\n",
        "\n",
        "participant=f.split(\"-\")[0].replace(data_path,\"\")\n",
        "label = f.split(\"-\")[1]\n",
        "category = f.split(\"-\")[2].rstrip(\"2\")\n",
        "\n",
        "df = pd.read_csv(f)\n",
        "\n",
        "df[\"participant\"]=participant\n",
        "df[\"label\"]=label\n",
        "df[\"category\"]=category\n"
      ],
      "metadata": {
        "colab": {
          "base_uri": "https://localhost:8080/"
        },
        "id": "UBf1zIyKRQT-",
        "outputId": "0eaa08f0-3d10-4caa-b2c7-1fb3585ad216"
      },
      "execution_count": 78,
      "outputs": [
        {
          "output_type": "stream",
          "name": "stdout",
          "text": [
            "h\n"
          ]
        }
      ]
    },
    {
      "cell_type": "code",
      "source": [
        "#** for my own visual\n",
        "print(df.head())  # Display the first few rows, including 'label'\n",
        "print(df[[\"label\", \"participant\", \"category\"]])  # Display only specific columns\n"
      ],
      "metadata": {
        "colab": {
          "base_uri": "https://localhost:8080/"
        },
        "id": "EAoEr91RRTyw",
        "outputId": "a600bdb8-1f60-408b-8d01-561eea1f5566"
      },
      "execution_count": 74,
      "outputs": [
        {
          "output_type": "stream",
          "name": "stdout",
          "text": [
            "      epoch (ms)             time (01:00)  elapsed (s)  x-axis (deg/s)  \\\n",
            "0  1547580495467  2019-01-15T20:28:15.467         0.00          -0.610   \n",
            "1  1547580495507  2019-01-15T20:28:15.507         0.04          -0.305   \n",
            "2  1547580495547  2019-01-15T20:28:15.547         0.08           1.707   \n",
            "3  1547580495587  2019-01-15T20:28:15.587         0.12           4.451   \n",
            "4  1547580495627  2019-01-15T20:28:15.627         0.16           8.171   \n",
            "\n",
            "   y-axis (deg/s)  z-axis (deg/s) participant label              category  \n",
            "0          12.561           1.524           C  dead  medium_MetaWear_2019  \n",
            "1          14.268           1.829           C  dead  medium_MetaWear_2019  \n",
            "2          10.671           1.463           C  dead  medium_MetaWear_2019  \n",
            "3          11.707          -0.976           C  dead  medium_MetaWear_2019  \n",
            "4           4.512          -4.512           C  dead  medium_MetaWear_2019  \n",
            "    label participant              category\n",
            "0    dead           C  medium_MetaWear_2019\n",
            "1    dead           C  medium_MetaWear_2019\n",
            "2    dead           C  medium_MetaWear_2019\n",
            "3    dead           C  medium_MetaWear_2019\n",
            "4    dead           C  medium_MetaWear_2019\n",
            "..    ...         ...                   ...\n",
            "823  dead           C  medium_MetaWear_2019\n",
            "824  dead           C  medium_MetaWear_2019\n",
            "825  dead           C  medium_MetaWear_2019\n",
            "826  dead           C  medium_MetaWear_2019\n",
            "827  dead           C  medium_MetaWear_2019\n",
            "\n",
            "[828 rows x 3 columns]\n"
          ]
        }
      ]
    },
    {
      "cell_type": "code",
      "source": [
        "acc_df = pd.DataFrame()\n",
        "gyr_df = pd.DataFrame()\n",
        "acc_set = 1\n",
        "gyr_set = 1\n",
        "count = 0\n",
        "\n",
        "for f in files:\n",
        "   #print(f)\n",
        "   participant=f.split(\"-\")[0].replace(data_path,\"\")\n",
        "  # print(participant)\n",
        "   label = f.split(\"-\")[1]\n",
        "   category = f.split(\"-\")[2].rstrip(\"123\")\n",
        "   count+=1\n",
        "\n",
        "   print(label)\n",
        "print(count)"
      ],
      "metadata": {
        "id": "xasiCJ3iShkm",
        "outputId": "07ed9040-d126-43be-959a-50ca1c0d6c8f",
        "colab": {
          "base_uri": "https://localhost:8080/"
        }
      },
      "execution_count": 77,
      "outputs": [
        {
          "output_type": "stream",
          "name": "stdout",
          "text": [
            "row\n",
            "dead\n",
            "squat\n",
            "bench\n",
            "ohp\n",
            "row\n",
            "rest\n",
            "bench\n",
            "row\n",
            "ohp\n",
            "ohp\n",
            "dead\n",
            "ohp\n",
            "bench\n",
            "ohp\n",
            "dead\n",
            "squat\n",
            "bench\n",
            "ohp\n",
            "row\n",
            "ohp\n",
            "bench\n",
            "bench\n",
            "bench\n",
            "row\n",
            "row\n",
            "rest\n",
            "squat\n",
            "bench\n",
            "squat\n",
            "row\n",
            "row\n",
            "squat\n",
            "row\n",
            "rest\n",
            "squat\n",
            "row\n",
            "row\n",
            "row\n",
            "dead\n",
            "ohp\n",
            "row\n",
            "squat\n",
            "bench\n",
            "ohp\n",
            "bench\n",
            "squat\n",
            "bench\n",
            "bench\n",
            "dead\n",
            "squat\n",
            "row\n",
            "bench\n",
            "rest\n",
            "bench\n",
            "row\n",
            "rest\n",
            "bench\n",
            "bench\n",
            "dead\n",
            "bench\n",
            "row\n",
            "bench\n",
            "row\n",
            "dead\n",
            "squat\n",
            "bench\n",
            "ohp\n",
            "row\n",
            "squat\n",
            "bench\n",
            "squat\n",
            "ohp\n",
            "ohp\n",
            "ohp\n",
            "dead\n",
            "dead\n",
            "squat\n",
            "bench\n",
            "bench\n",
            "dead\n",
            "row\n",
            "bench\n",
            "ohp\n",
            "ohp\n",
            "ohp\n",
            "squat\n",
            "ohp\n",
            "dead\n",
            "rest\n",
            "row\n",
            "row\n",
            "ohp\n",
            "squat\n",
            "ohp\n",
            "row\n",
            "ohp\n",
            "squat\n",
            "row\n",
            "squat\n",
            "dead\n",
            "squat\n",
            "bench\n",
            "row\n",
            "row\n",
            "row\n",
            "bench\n",
            "ohp\n",
            "dead\n",
            "bench\n",
            "rest\n",
            "bench\n",
            "bench\n",
            "row\n",
            "ohp\n",
            "rest\n",
            "row\n",
            "ohp\n",
            "ohp\n",
            "dead\n",
            "row\n",
            "rest\n",
            "ohp\n",
            "bench\n",
            "dead\n",
            "squat\n",
            "ohp\n",
            "ohp\n",
            "row\n",
            "squat\n",
            "rest\n",
            "row\n",
            "squat\n",
            "bench\n",
            "dead\n",
            "squat\n",
            "bench\n",
            "ohp\n",
            "bench\n",
            "ohp\n",
            "row\n",
            "ohp\n",
            "ohp\n",
            "rest\n",
            "bench\n",
            "squat\n",
            "ohp\n",
            "dead\n",
            "dead\n",
            "ohp\n",
            "row\n",
            "ohp\n",
            "row\n",
            "squat\n",
            "dead\n",
            "ohp\n",
            "dead\n",
            "squat\n",
            "rest\n",
            "ohp\n",
            "squat\n",
            "rest\n",
            "bench\n",
            "row\n",
            "row\n",
            "dead\n",
            "squat\n",
            "rest\n",
            "ohp\n",
            "rest\n",
            "row\n",
            "ohp\n",
            "squat\n",
            "ohp\n",
            "squat\n",
            "row\n",
            "squat\n",
            "bench\n",
            "row\n",
            "bench\n",
            "row\n",
            "dead\n",
            "bench\n",
            "rest\n",
            "ohp\n",
            "row\n",
            "bench\n",
            "187\n"
          ]
        }
      ]
    }
  ]
}