{
  "nbformat": 4,
  "nbformat_minor": 0,
  "metadata": {
    "colab": {
      "provenance": [],
      "authorship_tag": "ABX9TyPh3P0cMjY/D7bqVG15Jkc+",
      "include_colab_link": true
    },
    "kernelspec": {
      "name": "python3",
      "display_name": "Python 3"
    },
    "language_info": {
      "name": "python"
    }
  },
  "cells": [
    {
      "cell_type": "markdown",
      "metadata": {
        "id": "view-in-github",
        "colab_type": "text"
      },
      "source": [
        "<a href=\"https://colab.research.google.com/github/TamimurRahman/-Machine-Learning-Project/blob/main/Coding_a_Fitness_Tracker.ipynb\" target=\"_parent\"><img src=\"https://colab.research.google.com/assets/colab-badge.svg\" alt=\"Open In Colab\"/></a>"
      ]
    },
    {
      "cell_type": "code",
      "execution_count": 29,
      "metadata": {
        "id": "UpFJgbWGxsRE"
      },
      "outputs": [],
      "source": [
        "import pandas as pd\n",
        "from glob import glob\n",
        "\n",
        "# --------------------------------------------------------------\n",
        "# Read single CSV file\n",
        "# --------------------------------------------------------------\n",
        "\n",
        "\n",
        "# --------------------------------------------------------------\n",
        "# List all data in data/raw/MetaMotion\n",
        "# --------------------------------------------------------------\n",
        "\n",
        "\n",
        "# --------------------------------------------------------------\n",
        "# Extract features from filename\n",
        "# --------------------------------------------------------------\n",
        "\n",
        "\n",
        "# --------------------------------------------------------------\n",
        "# Read all files\n",
        "# --------------------------------------------------------------\n",
        "\n",
        "\n",
        "# --------------------------------------------------------------\n",
        "# Working with datetimes\n",
        "# --------------------------------------------------------------\n",
        "\n",
        "\n",
        "# --------------------------------------------------------------\n",
        "# Turn into function\n",
        "# --------------------------------------------------------------\n",
        "\n",
        "\n",
        "# --------------------------------------------------------------\n",
        "# Merging datasets\n",
        "# --------------------------------------------------------------\n",
        "\n",
        "\n",
        "# --------------------------------------------------------------\n",
        "# Resample data (frequency conversion)\n",
        "# --------------------------------------------------------------\n",
        "\n",
        "# Accelerometer:    12.500HZ\n",
        "# Gyroscope:        25.000Hz\n",
        "\n",
        "\n",
        "# --------------------------------------------------------------\n",
        "# Export dataset\n",
        "# --------------------------------------------------------------"
      ]
    },
    {
      "cell_type": "code",
      "source": [
        "single_file_acc = pd.read_csv(\"/content/A-bench-heavy2-rpe8_MetaWear_2019-01-11T16.10.08.270_C42732BE255C_Accelerometer_12.500Hz_1.4.4.csv\")\n",
        "single_file_gyr = pd.read_csv(\"/content/A-bench-heavy2-rpe8_MetaWear_2019-01-11T16.10.08.270_C42732BE255C_Gyroscope_25.000Hz_1.4.4.csv\")\n"
      ],
      "metadata": {
        "id": "f8GzJW-PRXjZ"
      },
      "execution_count": 30,
      "outputs": []
    },
    {
      "cell_type": "code",
      "source": [
        "files = glob(\"*.csv\")\n",
        "len(files)"
      ],
      "metadata": {
        "id": "RK3Jw84KRU9P",
        "outputId": "b6485d25-bbd9-4d78-e085-2e477892e94e",
        "colab": {
          "base_uri": "https://localhost:8080/"
        }
      },
      "execution_count": 31,
      "outputs": [
        {
          "output_type": "execute_result",
          "data": {
            "text/plain": [
              "187"
            ]
          },
          "metadata": {},
          "execution_count": 31
        }
      ]
    },
    {
      "cell_type": "code",
      "source": [
        "data_path =\"/content/A-bench-heavy2-rpe8_MetaWear_2019-01-11T16.10.08.270_C42732BE255C_Accelerometer_12.500Hz_1.4.4.csv\"\n",
        "f  = files[0]\n",
        "\n",
        "participant=f.split(\"_\")[0].replace(data_path,\"\")\n",
        "label = f.split(\"_\")[1]\n",
        "category = f.split(\"_\")[2].rstrip(\"2\")\n",
        "\n",
        "df = pd.read_csv(f)\n",
        "\n",
        "df[\"participant\"]=participant\n",
        "df[\"label\"]=label\n",
        "df[\"category\"]=category"
      ],
      "metadata": {
        "id": "UBf1zIyKRQT-"
      },
      "execution_count": 33,
      "outputs": []
    },
    {
      "cell_type": "code",
      "source": [
        "print(df.head())  # Display the first few rows, including 'label'\n",
        "print(df[[\"label\", \"participant\", \"category\"]])  # Display only specific columns\n"
      ],
      "metadata": {
        "id": "EAoEr91RRTyw",
        "outputId": "5bcc6642-aa9d-417d-a349-1206fdd45e9c",
        "colab": {
          "base_uri": "https://localhost:8080/"
        }
      },
      "execution_count": 36,
      "outputs": [
        {
          "output_type": "stream",
          "name": "stdout",
          "text": [
            "      epoch (ms)             time (01:00)  elapsed (s)  x-axis (g)  \\\n",
            "0  1547474930149  2019-01-14T15:08:50.149         0.00      -0.012   \n",
            "1  1547474930229  2019-01-14T15:08:50.229         0.08       0.005   \n",
            "2  1547474930309  2019-01-14T15:08:50.309         0.16       0.013   \n",
            "3  1547474930389  2019-01-14T15:08:50.389         0.24       0.015   \n",
            "4  1547474930469  2019-01-14T15:08:50.469         0.32       0.027   \n",
            "\n",
            "   y-axis (g)  z-axis (g)  participant     label                 category  \n",
            "0      -0.865       0.187  C-row-heavy  MetaWear  2019-01-14T15.08.50.111  \n",
            "1      -0.887       0.101  C-row-heavy  MetaWear  2019-01-14T15.08.50.111  \n",
            "2      -0.929       0.102  C-row-heavy  MetaWear  2019-01-14T15.08.50.111  \n",
            "3      -0.990       0.028  C-row-heavy  MetaWear  2019-01-14T15.08.50.111  \n",
            "4      -1.009      -0.001  C-row-heavy  MetaWear  2019-01-14T15.08.50.111  \n",
            "        label  participant                 category\n",
            "0    MetaWear  C-row-heavy  2019-01-14T15.08.50.111\n",
            "1    MetaWear  C-row-heavy  2019-01-14T15.08.50.111\n",
            "2    MetaWear  C-row-heavy  2019-01-14T15.08.50.111\n",
            "3    MetaWear  C-row-heavy  2019-01-14T15.08.50.111\n",
            "4    MetaWear  C-row-heavy  2019-01-14T15.08.50.111\n",
            "..        ...          ...                      ...\n",
            "113  MetaWear  C-row-heavy  2019-01-14T15.08.50.111\n",
            "114  MetaWear  C-row-heavy  2019-01-14T15.08.50.111\n",
            "115  MetaWear  C-row-heavy  2019-01-14T15.08.50.111\n",
            "116  MetaWear  C-row-heavy  2019-01-14T15.08.50.111\n",
            "117  MetaWear  C-row-heavy  2019-01-14T15.08.50.111\n",
            "\n",
            "[118 rows x 3 columns]\n"
          ]
        }
      ]
    }
  ]
}